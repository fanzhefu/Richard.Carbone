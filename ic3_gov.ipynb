{
 "cells": [
  {
   "cell_type": "code",
   "execution_count": 482,
   "id": "96810ad0",
   "metadata": {},
   "outputs": [],
   "source": [
    "import requests\n",
    "from bs4 import BeautifulSoup\n",
    "import time\n",
    "\n",
    "# News | CISA\n",
    "url_ic3 = \"https://www.ic3.gov\"\n",
    "years = [2020,2021,2022,'Current']  # read from the website\n",
    "\n",
    "# the url of all the links\n",
    "urls = []\n",
    "for year in years:\n",
    "    url_year= url_ic3 + '/Home/IndustryAlerts?pressReleasesYear=_' + str(year)\n",
    "    page = requests.get(url_year)\n",
    "    soup = BeautifulSoup(page.content, \"html.parser\")   \n",
    "    links = soup.find_all(class_=\"entry-title\")\n",
    "    \n",
    "    for l in links:\n",
    "        link = l.get_attribute_list('href')[0]\n",
    "        if 'pdf' in link:\n",
    "            urls.append(link)\n",
    "\n",
    "for url in urls:\n",
    "    r=requests.get(url_ic3 + url).content\n",
    "    file_name = url.split('/')[-1]\n",
    "    with open(file_name,'wb') as f:\n",
    "        f.write(r)"
   ]
  },
  {
   "cell_type": "code",
   "execution_count": null,
   "id": "f84d0762",
   "metadata": {},
   "outputs": [],
   "source": []
  },
  {
   "cell_type": "code",
   "execution_count": null,
   "id": "72345685",
   "metadata": {},
   "outputs": [],
   "source": []
  },
  {
   "cell_type": "code",
   "execution_count": null,
   "id": "6248bb5a",
   "metadata": {},
   "outputs": [],
   "source": []
  },
  {
   "cell_type": "code",
   "execution_count": null,
   "id": "9b6ad033",
   "metadata": {},
   "outputs": [],
   "source": []
  },
  {
   "cell_type": "code",
   "execution_count": null,
   "id": "6949d7a7",
   "metadata": {},
   "outputs": [],
   "source": []
  },
  {
   "cell_type": "code",
   "execution_count": null,
   "id": "8e0e55eb",
   "metadata": {},
   "outputs": [],
   "source": []
  }
 ],
 "metadata": {
  "kernelspec": {
   "display_name": "Python 3 (ipykernel)",
   "language": "python",
   "name": "python3"
  },
  "language_info": {
   "codemirror_mode": {
    "name": "ipython",
    "version": 3
   },
   "file_extension": ".py",
   "mimetype": "text/x-python",
   "name": "python",
   "nbconvert_exporter": "python",
   "pygments_lexer": "ipython3",
   "version": "3.9.12"
  }
 },
 "nbformat": 4,
 "nbformat_minor": 5
}
