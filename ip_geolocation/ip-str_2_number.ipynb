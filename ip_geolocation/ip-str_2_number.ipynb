{
 "cells": [
  {
   "cell_type": "markdown",
   "id": "625c17f4",
   "metadata": {},
   "source": [
    "## No module import (IPv4 only)"
   ]
  },
  {
   "cell_type": "code",
   "execution_count": 24,
   "id": "8aa56cad",
   "metadata": {},
   "outputs": [
    {
     "data": {
      "text/plain": [
       "16909060"
      ]
     },
     "execution_count": 24,
     "metadata": {},
     "output_type": "execute_result"
    }
   ],
   "source": [
    ">>> ipstr = '1.2.3.4'\n",
    ">>> parts = ipstr.split('.')\n",
    ">>> (int(parts[0]) << 24) + (int(parts[1]) << 16) + \\\n",
    "          (int(parts[2]) << 8) + int(parts[3])"
   ]
  },
  {
   "cell_type": "code",
   "execution_count": 25,
   "id": "ddf63d7d",
   "metadata": {},
   "outputs": [
    {
     "data": {
      "text/plain": [
       "'1.2.3.4'"
      ]
     },
     "execution_count": 25,
     "metadata": {},
     "output_type": "execute_result"
    }
   ],
   "source": [
    ">>> ipint = 16909060\n",
    ">>> '.'.join([str(ipint >> (i << 3) & 0xFF)\n",
    "          for i in range(4)[::-1]])"
   ]
  },
  {
   "cell_type": "markdown",
   "id": "6292a96c",
   "metadata": {},
   "source": [
    "## Module netaddr"
   ]
  },
  {
   "cell_type": "code",
   "execution_count": 26,
   "id": "26b4c13d",
   "metadata": {},
   "outputs": [
    {
     "data": {
      "text/plain": [
       "16909060"
      ]
     },
     "execution_count": 26,
     "metadata": {},
     "output_type": "execute_result"
    }
   ],
   "source": [
    ">>> import netaddr\n",
    ">>> int(netaddr.IPAddress('1.2.3.4'))"
   ]
  },
  {
   "cell_type": "code",
   "execution_count": 27,
   "id": "07ac21d6",
   "metadata": {},
   "outputs": [
    {
     "data": {
      "text/plain": [
       "'1.2.3.4'"
      ]
     },
     "execution_count": 27,
     "metadata": {},
     "output_type": "execute_result"
    }
   ],
   "source": [
    ">>> str(netaddr.IPAddress(16909060))"
   ]
  },
  {
   "cell_type": "code",
   "execution_count": 28,
   "id": "aa924bff",
   "metadata": {},
   "outputs": [
    {
     "data": {
      "text/plain": [
       "21268296984521553528558659310639415296"
      ]
     },
     "execution_count": 28,
     "metadata": {},
     "output_type": "execute_result"
    }
   ],
   "source": [
    ">>> int(netaddr.IPAddress(u'1000:2000:3000:4000:5000:6000:7000:8000'))"
   ]
  },
  {
   "cell_type": "code",
   "execution_count": 30,
   "id": "a35d3c2b",
   "metadata": {},
   "outputs": [
    {
     "data": {
      "text/plain": [
       "'1000:2000:3000:4000:5000:6000:7000:8000'"
      ]
     },
     "execution_count": 30,
     "metadata": {},
     "output_type": "execute_result"
    }
   ],
   "source": [
    ">>> str(netaddr.IPAddress(21268296984521553528558659310639415296))"
   ]
  },
  {
   "cell_type": "code",
   "execution_count": 18,
   "id": "75d7e3d6",
   "metadata": {},
   "outputs": [
    {
     "data": {
      "text/plain": [
       "16909060"
      ]
     },
     "execution_count": 18,
     "metadata": {},
     "output_type": "execute_result"
    }
   ],
   "source": [
    "#ipaddress (doc) is part of the standard library since v3.3\n",
    "import ipaddress\n",
    "int(ipaddress.ip_address('1.2.3.4'))"
   ]
  },
  {
   "cell_type": "code",
   "execution_count": 19,
   "id": "a2b68d37",
   "metadata": {},
   "outputs": [
    {
     "data": {
      "text/plain": [
       "'1.2.3.4'"
      ]
     },
     "execution_count": 19,
     "metadata": {},
     "output_type": "execute_result"
    }
   ],
   "source": [
    "str(ipaddress.ip_address(16909060))"
   ]
  },
  {
   "cell_type": "code",
   "execution_count": 20,
   "id": "b342e757",
   "metadata": {},
   "outputs": [
    {
     "data": {
      "text/plain": [
       "21268296984521553528558659310639415296"
      ]
     },
     "execution_count": 20,
     "metadata": {},
     "output_type": "execute_result"
    }
   ],
   "source": [
    "int(ipaddress.ip_address(u'1000:2000:3000:4000:5000:6000:7000:8000'))"
   ]
  },
  {
   "cell_type": "code",
   "execution_count": 22,
   "id": "1c1cb468",
   "metadata": {},
   "outputs": [
    {
     "data": {
      "text/plain": [
       "'1000:2000:3000:4000:5000:6000:7000:8000'"
      ]
     },
     "execution_count": 22,
     "metadata": {},
     "output_type": "execute_result"
    }
   ],
   "source": [
    ">>> str(ipaddress.ip_address(21268296984521553528558659310639415296))"
   ]
  },
  {
   "cell_type": "markdown",
   "id": "da854535",
   "metadata": {},
   "source": [
    "## Modules socket and struct (ipv4 only)"
   ]
  },
  {
   "cell_type": "code",
   "execution_count": 16,
   "id": "5312f6e9",
   "metadata": {},
   "outputs": [
    {
     "data": {
      "text/plain": [
       "3232238090"
      ]
     },
     "execution_count": 16,
     "metadata": {},
     "output_type": "execute_result"
    }
   ],
   "source": [
    "import socket, struct\n",
    "\n",
    "def ip2long(ip):\n",
    "    \"\"\"\n",
    "    Convert an IP string to long integer\n",
    "    \"\"\"\n",
    "    packed_ip = socket.inet_aton(ip)\n",
    "    #print(packed_ip)\n",
    "    return struct.unpack(\"!L\", packed_ip)[0]\n",
    "\n",
    "ip2long('192.168.10.10')"
   ]
  },
  {
   "cell_type": "code",
   "execution_count": 6,
   "id": "092ea0c0",
   "metadata": {},
   "outputs": [
    {
     "data": {
      "text/plain": [
       "'192.168.10.10'"
      ]
     },
     "execution_count": 6,
     "metadata": {},
     "output_type": "execute_result"
    }
   ],
   "source": [
    "socket.inet_ntoa(struct.pack('!L', 3232238090))"
   ]
  },
  {
   "cell_type": "markdown",
   "id": "dacf2fcb",
   "metadata": {},
   "source": [
    "## ipaddress module"
   ]
  },
  {
   "cell_type": "code",
   "execution_count": 31,
   "id": "7443595c",
   "metadata": {},
   "outputs": [],
   "source": [
    "import ipaddress\n",
    "\n",
    "ip_in_int = int(ipaddress.ip_address('192.168.10.10'))"
   ]
  },
  {
   "cell_type": "code",
   "execution_count": 32,
   "id": "c9fe2b63",
   "metadata": {},
   "outputs": [
    {
     "data": {
      "text/plain": [
       "3232238090"
      ]
     },
     "execution_count": 32,
     "metadata": {},
     "output_type": "execute_result"
    }
   ],
   "source": [
    "ip_in_int"
   ]
  },
  {
   "cell_type": "code",
   "execution_count": 33,
   "id": "820ac3c6",
   "metadata": {},
   "outputs": [
    {
     "data": {
      "text/plain": [
       "'192.168.10.10'"
      ]
     },
     "execution_count": 33,
     "metadata": {},
     "output_type": "execute_result"
    }
   ],
   "source": [
    "str(ipaddress.ip_address(3232238090))"
   ]
  },
  {
   "cell_type": "code",
   "execution_count": 34,
   "id": "a987d088",
   "metadata": {},
   "outputs": [
    {
     "data": {
      "text/plain": [
       "21268296984521553528558659310639415296"
      ]
     },
     "execution_count": 34,
     "metadata": {},
     "output_type": "execute_result"
    }
   ],
   "source": [
    "int(ipaddress.ip_address(u'1000:2000:3000:4000:5000:6000:7000:8000'))"
   ]
  },
  {
   "cell_type": "code",
   "execution_count": 35,
   "id": "1cb66ae6",
   "metadata": {},
   "outputs": [
    {
     "data": {
      "text/plain": [
       "'1000:2000:3000:4000:5000:6000:7000:8000'"
      ]
     },
     "execution_count": 35,
     "metadata": {},
     "output_type": "execute_result"
    }
   ],
   "source": [
    " str(ipaddress.ip_address(21268296984521553528558659310639415296))"
   ]
  },
  {
   "cell_type": "code",
   "execution_count": null,
   "id": "91d12663",
   "metadata": {},
   "outputs": [],
   "source": []
  }
 ],
 "metadata": {
  "kernelspec": {
   "display_name": "Python 3 (ipykernel)",
   "language": "python",
   "name": "python3"
  },
  "language_info": {
   "codemirror_mode": {
    "name": "ipython",
    "version": 3
   },
   "file_extension": ".py",
   "mimetype": "text/x-python",
   "name": "python",
   "nbconvert_exporter": "python",
   "pygments_lexer": "ipython3",
   "version": "3.9.12"
  }
 },
 "nbformat": 4,
 "nbformat_minor": 5
}
