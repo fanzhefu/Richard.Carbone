{
 "cells": [
  {
   "cell_type": "code",
   "execution_count": null,
   "id": "a65b45bb",
   "metadata": {},
   "outputs": [],
   "source": [
    "import requests\n",
    "from bs4 import BeautifulSoup\n",
    "import time\n",
    "\n",
    "# News | CISA\n",
    "url_cisa = \"https://www.cisa.gov\"\n",
    "pages = 60  # get from the website\n",
    "\n",
    "# get the url of all the aticles\n",
    "urls = []\n",
    "for page in range(pages):\n",
    "    url_page = url_cisa + '/news-events/news?page=' + str(page)\n",
    "    page = requests.get(url_page)\n",
    "    soup = BeautifulSoup(page.content, \"html.parser\")   \n",
    "    titles = soup.find_all(class_=\"c-teaser__title\")\n",
    "    \n",
    "    for i in range(len(titles)):\n",
    "        urls.append(titles[i].find(\"a\")['href'])\n",
    "\n",
    "# loop through the urls and get the title, released date and auther of the article,\n",
    "# then save into a file, sleep 5 seconds between two files to slow down this process. \n",
    "for url in urls:\n",
    "    status_code = 0\n",
    "    while status_code != 200:\n",
    "        page = requests.get(url_cisa + url)\n",
    "        status_code = page.status_code    #warus\n",
    "        if status_code != 200:\n",
    "            print('status_code:', status_code)\n",
    "            time.sleep(5)   # wait for 5 seconds and retry\n",
    "            continue\n",
    "    soup = BeautifulSoup(page.content, \"html.parser\")   \n",
    "\n",
    "    title = soup.find_all(class_=\"c-page-title__title\")[0].text.strip()\n",
    "    \n",
    "    writer = soup.find_all(class_=\"c-page-title__author\")\n",
    "    author = '' if not writer else writer[0].text.strip()\n",
    "    \n",
    "    article = soup.find_all(class_=\"c-field__content\")\n",
    "    content = article[-1].text\n",
    "    released = '' if len(article)==1 else article[-2].text\n",
    "    \n",
    "    file_name = 'results/' + url.split('/')[-1] +'.txt'\n",
    "    print('writing file: ' + file_name + '')\n",
    "    with open(file_name, 'w', encoding=\"utf-8\") as file:\n",
    "        file.write(title +'\\n'+ author +'\\n'+ released +'\\n'+ content)\n",
    "    time.sleep(5)    #slow down, otherwise your ip will be blocked\n",
    "\n",
    "print('Done ... ... ')\n"
   ]
  },
  {
   "cell_type": "code",
   "execution_count": null,
   "id": "3207525b",
   "metadata": {},
   "outputs": [],
   "source": []
  }
 ],
 "metadata": {
  "kernelspec": {
   "display_name": "Python 3 (ipykernel)",
   "language": "python",
   "name": "python3"
  },
  "language_info": {
   "codemirror_mode": {
    "name": "ipython",
    "version": 3
   },
   "file_extension": ".py",
   "mimetype": "text/x-python",
   "name": "python",
   "nbconvert_exporter": "python",
   "pygments_lexer": "ipython3",
   "version": "3.9.12"
  }
 },
 "nbformat": 4,
 "nbformat_minor": 5
}
